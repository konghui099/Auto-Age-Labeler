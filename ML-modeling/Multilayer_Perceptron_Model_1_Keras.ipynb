{
 "cells": [
  {
   "cell_type": "code",
   "execution_count": 0,
   "metadata": {
    "colab": {
     "base_uri": "https://localhost:8080/",
     "height": 34
    },
    "colab_type": "code",
    "id": "vC6alCXLni7r",
    "outputId": "5265c753-48e8-458f-b3a4-042da3ca25e2"
   },
   "outputs": [
    {
     "name": "stdout",
     "output_type": "stream",
     "text": [
      "Drive already mounted at /content/gdrive; to attempt to forcibly remount, call drive.mount(\"/content/gdrive\", force_remount=True).\n"
     ]
    }
   ],
   "source": [
    "from google.colab import drive\n",
    "drive.mount('/content/gdrive')"
   ]
  },
  {
   "cell_type": "code",
   "execution_count": 0,
   "metadata": {
    "colab": {},
    "colab_type": "code",
    "id": "tGSenkrboO5Z"
   },
   "outputs": [],
   "source": [
    "import numpy as np\n",
    "# load in the data\n",
    "X_train = np.load('/content/gdrive/My Drive/training_feature_arr_MLP.npy')\n",
    "y_train = np.load('/content/gdrive/My Drive/training_labels_MLP.npy')\n",
    "X_test = np.load('/content/gdrive/My Drive/testing_feature_arr_MLP.npy')\n",
    "y_test = np.load('/content/gdrive/My Drive/testing_labels_MLP.npy')"
   ]
  },
  {
   "cell_type": "code",
   "execution_count": 0,
   "metadata": {
    "colab": {
     "base_uri": "https://localhost:8080/",
     "height": 71
    },
    "colab_type": "code",
    "id": "s-_rb4w1pBSO",
    "outputId": "fa19cb1e-9025-4e01-b558-7ed4d8c79890"
   },
   "outputs": [
    {
     "name": "stderr",
     "output_type": "stream",
     "text": [
      "/usr/local/lib/python2.7/dist-packages/sklearn/svm/base.py:922: ConvergenceWarning: Liblinear failed to converge, increase the number of iterations.\n",
      "  \"the number of iterations.\", ConvergenceWarning)\n"
     ]
    }
   ],
   "source": [
    "# use LASSO technique to do some feature selection because there are 170 features\n",
    "import pandas as pd\n",
    "from sklearn.svm import LinearSVC\n",
    "from sklearn.feature_selection import SelectFromModel\n",
    "\n",
    "# need to use the one with categories (not one hot encoded)\n",
    "# to do feature selection\n",
    "\n",
    "# read in the csv file and put it in a DataFrame.\n",
    "df_train = pd.read_csv('/content/gdrive/My Drive/audio_training_data_cleaned.csv')\n",
    "\n",
    "# drop any null values we may have forgotten\n",
    "df_train = df_train.dropna(how='any',axis=0)\n",
    "\n",
    "y_train_classes = df_train['age']\n",
    "\n",
    "# to do feature selection, must convert categorical values to\n",
    "# numerical values\n",
    "replaced = {'teens':1,'twenties':2,'thirties':3,'fourties':4,'fifties':5,'sixties':6,\n",
    "            'seventies':7,'eighties':8}\n",
    "y_train_encoded = y_train_classes.replace(replaced)\n",
    "\n",
    "\n",
    "\n",
    "lsvc = LinearSVC(C=0.01, penalty=\"l1\", dual=False).fit(X_train, y_train_encoded)\n",
    "model = SelectFromModel(lsvc, prefit=True)\n",
    "X_train = model.transform(X_train)"
   ]
  },
  {
   "cell_type": "code",
   "execution_count": 0,
   "metadata": {
    "colab": {
     "base_uri": "https://localhost:8080/",
     "height": 1411
    },
    "colab_type": "code",
    "id": "amlieG4Gplt3",
    "outputId": "88576b32-b36b-41a0-b676-5c395d712f1c"
   },
   "outputs": [
    {
     "name": "stderr",
     "output_type": "stream",
     "text": [
      "Using TensorFlow backend.\n"
     ]
    },
    {
     "name": "stdout",
     "output_type": "stream",
     "text": [
      "Epoch 1/40\n",
      "73765/73765 [==============================] - 8s 115us/step - loss: 1.7402 - acc: 0.3147\n",
      "Epoch 2/40\n",
      "73765/73765 [==============================] - 8s 102us/step - loss: 1.6172 - acc: 0.3566\n",
      "Epoch 3/40\n",
      "73765/73765 [==============================] - 7s 101us/step - loss: 1.5342 - acc: 0.3941\n",
      "Epoch 4/40\n",
      "73765/73765 [==============================] - 8s 103us/step - loss: 1.4556 - acc: 0.4271\n",
      "Epoch 5/40\n",
      "73765/73765 [==============================] - 8s 105us/step - loss: 1.3582 - acc: 0.4710\n",
      "Epoch 6/40\n",
      "73765/73765 [==============================] - 8s 104us/step - loss: 1.2685 - acc: 0.5097\n",
      "Epoch 7/40\n",
      "73765/73765 [==============================] - 8s 105us/step - loss: 1.1840 - acc: 0.5470\n",
      "Epoch 8/40\n",
      "73765/73765 [==============================] - 8s 104us/step - loss: 1.1094 - acc: 0.5812\n",
      "Epoch 9/40\n",
      "73765/73765 [==============================] - 8s 103us/step - loss: 1.0386 - acc: 0.6102\n",
      "Epoch 10/40\n",
      "73765/73765 [==============================] - 8s 102us/step - loss: 0.9837 - acc: 0.6333\n",
      "Epoch 11/40\n",
      "73765/73765 [==============================] - 8s 103us/step - loss: 0.9301 - acc: 0.6536\n",
      "Epoch 12/40\n",
      "73765/73765 [==============================] - 8s 103us/step - loss: 0.8856 - acc: 0.6700\n",
      "Epoch 13/40\n",
      "73765/73765 [==============================] - 8s 104us/step - loss: 0.8427 - acc: 0.6888\n",
      "Epoch 14/40\n",
      "73765/73765 [==============================] - 8s 104us/step - loss: 0.8089 - acc: 0.7014\n",
      "Epoch 15/40\n",
      "73765/73765 [==============================] - 8s 104us/step - loss: 0.7745 - acc: 0.7146\n",
      "Epoch 16/40\n",
      "73765/73765 [==============================] - 8s 103us/step - loss: 0.7511 - acc: 0.7237\n",
      "Epoch 17/40\n",
      "73765/73765 [==============================] - 8s 103us/step - loss: 0.7231 - acc: 0.7349\n",
      "Epoch 18/40\n",
      "73765/73765 [==============================] - 8s 107us/step - loss: 0.6987 - acc: 0.7456\n",
      "Epoch 19/40\n",
      "73765/73765 [==============================] - 8s 105us/step - loss: 0.6744 - acc: 0.7550\n",
      "Epoch 20/40\n",
      "73765/73765 [==============================] - 8s 104us/step - loss: 0.6566 - acc: 0.7590\n",
      "Epoch 21/40\n",
      "73765/73765 [==============================] - 8s 104us/step - loss: 0.6398 - acc: 0.7657\n",
      "Epoch 22/40\n",
      "73765/73765 [==============================] - 8s 103us/step - loss: 0.6193 - acc: 0.7729\n",
      "Epoch 23/40\n",
      "73765/73765 [==============================] - 8s 104us/step - loss: 0.5942 - acc: 0.7840\n",
      "Epoch 24/40\n",
      "73765/73765 [==============================] - 8s 103us/step - loss: 0.5878 - acc: 0.7863\n",
      "Epoch 25/40\n",
      "73765/73765 [==============================] - 8s 102us/step - loss: 0.5745 - acc: 0.7907\n",
      "Epoch 26/40\n",
      "73765/73765 [==============================] - 8s 102us/step - loss: 0.5573 - acc: 0.7975\n",
      "Epoch 27/40\n",
      "73765/73765 [==============================] - 8s 103us/step - loss: 0.5464 - acc: 0.8010\n",
      "Epoch 28/40\n",
      "73765/73765 [==============================] - 8s 106us/step - loss: 0.5348 - acc: 0.8043\n",
      "Epoch 29/40\n",
      "73765/73765 [==============================] - 8s 104us/step - loss: 0.5165 - acc: 0.8119\n",
      "Epoch 30/40\n",
      "73765/73765 [==============================] - 8s 104us/step - loss: 0.5210 - acc: 0.8122\n",
      "Epoch 31/40\n",
      "73765/73765 [==============================] - 8s 104us/step - loss: 0.5022 - acc: 0.8179\n",
      "Epoch 32/40\n",
      "73765/73765 [==============================] - 8s 103us/step - loss: 0.4981 - acc: 0.8194\n",
      "Epoch 33/40\n",
      "73765/73765 [==============================] - 8s 103us/step - loss: 0.4888 - acc: 0.8218\n",
      "Epoch 34/40\n",
      "73765/73765 [==============================] - 8s 102us/step - loss: 0.4770 - acc: 0.8278\n",
      "Epoch 35/40\n",
      "73765/73765 [==============================] - 8s 103us/step - loss: 0.4695 - acc: 0.8295\n",
      "Epoch 36/40\n",
      "73765/73765 [==============================] - 8s 105us/step - loss: 0.4619 - acc: 0.8328\n",
      "Epoch 37/40\n",
      "73765/73765 [==============================] - 8s 105us/step - loss: 0.4528 - acc: 0.8359\n",
      "Epoch 38/40\n",
      "73765/73765 [==============================] - 8s 105us/step - loss: 0.4467 - acc: 0.8390\n",
      "Epoch 39/40\n",
      "73765/73765 [==============================] - 8s 104us/step - loss: 0.4359 - acc: 0.8438\n",
      "Epoch 40/40\n",
      "73765/73765 [==============================] - 8s 103us/step - loss: 0.4301 - acc: 0.8448\n"
     ]
    },
    {
     "data": {
      "text/plain": [
       "<keras.callbacks.History at 0x7f9469fe4f50>"
      ]
     },
     "execution_count": 4,
     "metadata": {
      "tags": []
     },
     "output_type": "execute_result"
    }
   ],
   "source": [
    "# MLP model in Keras\n",
    "from keras.models import Sequential\n",
    "from keras.layers import Dense, Activation\n",
    "from keras.layers import Dropout\n",
    "from keras.regularizers import l2\n",
    "\n",
    "DL_model = Sequential()\n",
    "\n",
    "DL_model.add(Dense(256, activation='relu'))\n",
    "DL_model.add(Dropout(0.2))\n",
    "\n",
    "DL_model.add(Dense(1024, activation='relu'))\n",
    "\n",
    "DL_model.add(Dense(1024, activation='relu'))\n",
    "DL_model.add(Dropout(0.15))\n",
    "\n",
    "DL_model.add(Dense(256, activation='relu'))\n",
    "\n",
    "DL_model.add(Dense(8, activation='softmax'))\n",
    "\n",
    "DL_model.compile(optimizer='adam',loss='categorical_crossentropy',\n",
    "             metrics=['accuracy'])\n",
    "DL_model.fit(X_train,y_train,epochs=40,batch_size=100,class_weight='balanced')"
   ]
  },
  {
   "cell_type": "code",
   "execution_count": 0,
   "metadata": {
    "colab": {},
    "colab_type": "code",
    "id": "nCU3RaTfynCy"
   },
   "outputs": [],
   "source": [
    "#X_test = model.transform(X_test)\n",
    "DL_model.save('MLP_Model1.h5')\n",
    "from google.colab import files\n",
    "\n",
    "# files.download('MLP_Model1.h5')\n",
    "\n",
    "# need to export X_train \n",
    "# with the selected features\n",
    "np.save('training_feature_arr_MLP_Model1.npy',X_train)\n",
    "files.download('training_feature_arr_MLP_Model1.npy')\n",
    "\n",
    "# need to export X_test with\n",
    "# the selected features\n",
    "np.save('testing_feature_arr_MLP_Model1.npy',X_test)\n",
    "files.download('testing_feature_arr_MLP_Model1.npy')"
   ]
  }
 ],
 "metadata": {
  "accelerator": "GPU",
  "colab": {
   "collapsed_sections": [],
   "name": "Multilayer Perceptron Model 1- Keras.ipynb",
   "provenance": [],
   "version": "0.3.2"
  },
  "kernelspec": {
   "display_name": "Python 2",
   "language": "python",
   "name": "python2"
  },
  "language_info": {
   "codemirror_mode": {
    "name": "ipython",
    "version": 2
   },
   "file_extension": ".py",
   "mimetype": "text/x-python",
   "name": "python",
   "nbconvert_exporter": "python",
   "pygments_lexer": "ipython2",
   "version": "2.7.15"
  }
 },
 "nbformat": 4,
 "nbformat_minor": 1
}
